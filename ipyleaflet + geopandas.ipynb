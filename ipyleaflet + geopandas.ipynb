{
 "cells": [
  {
   "cell_type": "markdown",
   "id": "782e71ac",
   "metadata": {},
   "source": [
    "<h2>Импорт необходимых библиотек</h2>"
   ]
  },
  {
   "cell_type": "code",
   "execution_count": 1,
   "id": "34bff7bb",
   "metadata": {},
   "outputs": [],
   "source": [
    "import geopandas  # библиотека для работы с геопространственными данными\n",
    "import ipyleaflet  # библиотека интерактивных виджетов для карты, основанная на ipywidgets\n",
    "import ipywidgets  # библиотека интерактивных HTML-виджетов для ноутбуков Jupyter и ядра IPython\n",
    "import os  # библиотека функций для работы с операционной системой\n",
    "import psycopg2  # библиотека для связи с базой данных\n",
    "\n",
    "from contextlib import closing  # функция для закрытия соединения с БД при выходе из менеджера контекста\n",
    "from dotenv import load_dotenv  # считывания пар ключ-значение из файла .env и установки их как переменные среды\n",
    "from pyproj import Geod  # выполнение прямых и обратных геодезических вычислених (длина фигурной геометрии)\n",
    "from typing import Callable, Optional, Union  # для тайп-хинтингов Python"
   ]
  },
  {
   "cell_type": "markdown",
   "id": "e2bba90b",
   "metadata": {},
   "source": [
    "### Игнорируем предупреждения\n"
   ]
  },
  {
   "cell_type": "code",
   "execution_count": 2,
   "id": "38c55259",
   "metadata": {},
   "outputs": [],
   "source": [
    "import warnings\n",
    "warnings.filterwarnings('ignore')"
   ]
  },
  {
   "cell_type": "markdown",
   "id": "ae586873",
   "metadata": {},
   "source": [
    "<h2>Загрузка данных по зданиям города Познань</h2>"
   ]
  },
  {
   "cell_type": "markdown",
   "id": "e7643aba",
   "metadata": {},
   "source": [
    "### Вариант 1. Загружаем напрямую из файла"
   ]
  },
  {
   "cell_type": "code",
   "execution_count": 3,
   "id": "dd1707bd",
   "metadata": {},
   "outputs": [],
   "source": [
    "# df_buildings = geopandas.read_file(filename='./shapefiles/buildings.shp')\n",
    "# df_buildings.insert(0, 'id_building', range(1, len(df_buildings) + 1))\n",
    "\n",
    "# df_buildings = df_buildings.sample(20000) # выборка случайных 20к записей\n",
    "\n",
    "# df_buildings.info() # общая информация по датафрейму\n",
    "# df_buildings.head() # первые пять записей датафрейма"
   ]
  },
  {
   "cell_type": "markdown",
   "id": "80e05bdc",
   "metadata": {},
   "source": [
    "### Вариант 2. Загружаем из базы данных"
   ]
  },
  {
   "cell_type": "code",
   "execution_count": 4,
   "id": "c266e4c5",
   "metadata": {},
   "outputs": [
    {
     "name": "stdout",
     "output_type": "stream",
     "text": [
      "<class 'geopandas.geodataframe.GeoDataFrame'>\n",
      "Int64Index: 20000 entries, 77566 to 140573\n",
      "Data columns (total 5 columns):\n",
      " #   Column  Non-Null Count  Dtype   \n",
      "---  ------  --------------  -----   \n",
      " 0   gid     20000 non-null  int64   \n",
      " 1   geom    20000 non-null  geometry\n",
      " 2   osm_id  20000 non-null  int64   \n",
      " 3   name    248 non-null    object  \n",
      " 4   type    4991 non-null   object  \n",
      "dtypes: geometry(1), int64(2), object(2)\n",
      "memory usage: 937.5+ KB\n"
     ]
    },
    {
     "data": {
      "text/html": [
       "<div>\n",
       "<style scoped>\n",
       "    .dataframe tbody tr th:only-of-type {\n",
       "        vertical-align: middle;\n",
       "    }\n",
       "\n",
       "    .dataframe tbody tr th {\n",
       "        vertical-align: top;\n",
       "    }\n",
       "\n",
       "    .dataframe thead th {\n",
       "        text-align: right;\n",
       "    }\n",
       "</style>\n",
       "<table border=\"1\" class=\"dataframe\">\n",
       "  <thead>\n",
       "    <tr style=\"text-align: right;\">\n",
       "      <th></th>\n",
       "      <th>gid</th>\n",
       "      <th>geom</th>\n",
       "      <th>osm_id</th>\n",
       "      <th>name</th>\n",
       "      <th>type</th>\n",
       "    </tr>\n",
       "  </thead>\n",
       "  <tbody>\n",
       "    <tr>\n",
       "      <th>77566</th>\n",
       "      <td>224682</td>\n",
       "      <td>MULTIPOLYGON (((16.87596 52.45313, 16.87599 52...</td>\n",
       "      <td>1086198943</td>\n",
       "      <td>None</td>\n",
       "      <td>outbuilding</td>\n",
       "    </tr>\n",
       "    <tr>\n",
       "      <th>70384</th>\n",
       "      <td>217500</td>\n",
       "      <td>MULTIPOLYGON (((17.12324 52.35903, 17.12325 52...</td>\n",
       "      <td>1066984129</td>\n",
       "      <td>None</td>\n",
       "      <td>outbuilding</td>\n",
       "    </tr>\n",
       "    <tr>\n",
       "      <th>53848</th>\n",
       "      <td>200964</td>\n",
       "      <td>MULTIPOLYGON (((16.82037 52.41213, 16.82041 52...</td>\n",
       "      <td>941127919</td>\n",
       "      <td>None</td>\n",
       "      <td>None</td>\n",
       "    </tr>\n",
       "    <tr>\n",
       "      <th>82403</th>\n",
       "      <td>2277</td>\n",
       "      <td>MULTIPOLYGON (((16.86099 52.41689, 16.86101 52...</td>\n",
       "      <td>37517107</td>\n",
       "      <td>None</td>\n",
       "      <td>None</td>\n",
       "    </tr>\n",
       "    <tr>\n",
       "      <th>225459</th>\n",
       "      <td>145340</td>\n",
       "      <td>MULTIPOLYGON (((17.08150 52.40326, 17.08150 52...</td>\n",
       "      <td>669282579</td>\n",
       "      <td>None</td>\n",
       "      <td>residential</td>\n",
       "    </tr>\n",
       "  </tbody>\n",
       "</table>\n",
       "</div>"
      ],
      "text/plain": [
       "           gid                                               geom      osm_id  \\\n",
       "77566   224682  MULTIPOLYGON (((16.87596 52.45313, 16.87599 52...  1086198943   \n",
       "70384   217500  MULTIPOLYGON (((17.12324 52.35903, 17.12325 52...  1066984129   \n",
       "53848   200964  MULTIPOLYGON (((16.82037 52.41213, 16.82041 52...   941127919   \n",
       "82403     2277  MULTIPOLYGON (((16.86099 52.41689, 16.86101 52...    37517107   \n",
       "225459  145340  MULTIPOLYGON (((17.08150 52.40326, 17.08150 52...   669282579   \n",
       "\n",
       "        name         type  \n",
       "77566   None  outbuilding  \n",
       "70384   None  outbuilding  \n",
       "53848   None         None  \n",
       "82403   None         None  \n",
       "225459  None  residential  "
      ]
     },
     "execution_count": 4,
     "metadata": {},
     "output_type": "execute_result"
    }
   ],
   "source": [
    "# Получаем содержимое указанной таблицы из БД\n",
    "def get_table_data_from_db(table_name: str = \"buildings\") -> Optional[geopandas.GeoDataFrame]:\n",
    "    load_dotenv()\n",
    "    with closing(psycopg2.connect(dbname=os.environ.get('DB_NAME'), \n",
    "                                  user=os.environ.get('DB_USER'), \n",
    "                                  password=os.environ.get('DB_PASSWORD'))) as conn:\n",
    "        try:\n",
    "            sql_query = f\"SELECT * FROM {table_name};\"\n",
    "            df_table = geopandas.read_postgis(sql=sql_query, con=conn, geom_col='geom')\n",
    "            return df_table\n",
    "        except Exception as e:\n",
    "            print(e)\n",
    "            \n",
    "if (df_buildings := get_table_data_from_db()) is None:\n",
    "    raise ValueError(\"Не удалось извлечь данные из указанной таблицы. Проверьте правильность запроса.\")\n",
    "    \n",
    "df_buildings = df_buildings.sample(20000) # выборка случайных 20к записей\n",
    "\n",
    "df_buildings.info() # общая информация по датафрейму\n",
    "df_buildings.head() # первые пять записей датафрейма"
   ]
  },
  {
   "cell_type": "markdown",
   "id": "f29f6d1e",
   "metadata": {},
   "source": [
    "<h2>Работа над картой</h2>"
   ]
  },
  {
   "cell_type": "code",
   "execution_count": 5,
   "id": "fd35f0e7",
   "metadata": {},
   "outputs": [],
   "source": [
    "main_map = ipyleaflet.Map(basemap=ipyleaflet.basemaps.OpenStreetMap.Mapnik,\n",
    "                          center=(52.4126, 16.9219),\n",
    "                          zoom=10,\n",
    "                          max_zoom=18, \n",
    "                          scroll_wheel_zoom=True)\n",
    "\n",
    "# Добавляем панель контроля шаров для возможности скрытия последних\n",
    "layers_control = ipyleaflet.LayersControl(position='topleft')\n",
    "main_map.add_control(layers_control)\n",
    "# Добавляем возможность открытия карты на весь экран\n",
    "main_map.add_control(ipyleaflet.FullScreenControl())"
   ]
  },
  {
   "cell_type": "markdown",
   "id": "11d16e7f",
   "metadata": {},
   "source": [
    "<h3>Добавление слоя с данными по зданиям города Познань</h3>"
   ]
  },
  {
   "cell_type": "code",
   "execution_count": 6,
   "id": "354a168d",
   "metadata": {},
   "outputs": [],
   "source": [
    "# Создаём и добавляем шар с отмеченными зданиями города Познань\n",
    "geo_data = ipyleaflet.GeoData(geo_dataframe=df_buildings,\n",
    "                              style={'color': 'red', 'fillColor': '#3366cc', 'opacity': 0.5,\n",
    "                                     'weight': 1.9, 'dashArray': '2', 'fillOpacity': 0.6\n",
    "                              },\n",
    "                              hover_style={\n",
    "                                  'fillColor': 'orange' , 'fillOpacity': 0.2\n",
    "                              },\n",
    "                              name='Buildings')\n",
    "main_map.add_layer(geo_data)"
   ]
  },
  {
   "cell_type": "markdown",
   "id": "1d46b56f",
   "metadata": {},
   "source": [
    "<h3>Слой маркеров: добавление/удаление, кластер маркеров, функции-слушатели</h3>"
   ]
  },
  {
   "cell_type": "code",
   "execution_count": 7,
   "id": "037bcef8",
   "metadata": {},
   "outputs": [],
   "source": [
    "# Создание кластера маркеров, который будет содержать все маркеры, созданные пользователем\n",
    "user_markers_cluster = ipyleaflet.MarkerCluster(name='User Markers')\n",
    "main_map.add_layer(user_markers_cluster)\n",
    "\n",
    "# Создание шаблона поп-апа\n",
    "popup_text_template = ipywidgets.HTML()\n",
    "\n",
    "\n",
    "# Функция добавление маркера в кластер маркеров пользователя\n",
    "def add_marker_to_cluster(marker: ipyleaflet.leaflet.Marker) -> None:\n",
    "    current_markers_in_cluster = list(user_markers_cluster.markers)\n",
    "    current_markers_in_cluster.append(marker)\n",
    "    user_markers_cluster.markers = current_markers_in_cluster\n",
    "\n",
    "    \n",
    "# Функция удаления маркера из кластера маркеров пользователя\n",
    "def remove_marker_from_cluster(marker: ipyleaflet.leaflet.Marker) -> None:\n",
    "    current_markers_in_cluster = list(user_markers_cluster.markers)\n",
    "    current_markers_in_cluster.remove(marker)\n",
    "    user_markers_cluster.markers = current_markers_in_cluster\n",
    "    \n",
    "    \n",
    "# Функция подстановки текста в поп-ап маркера\n",
    "def set_popup_text(element: ipyleaflet.leaflet.Marker, text: str) -> None:\n",
    "    popup_text_template.value = text\n",
    "    element.popup = popup_text_template\n",
    "    \n",
    "    \n",
    "# Функция реакции на перемещение маркера, созданного пользователем\n",
    "def on_marker_move(marker: ipyleaflet.leaflet.Marker) -> None:\n",
    "    def callback(*args, **kwargs) -> Callable:\n",
    "        # Установка текста поп-апа для маркера\n",
    "        set_popup_text(marker, str(kwargs.get(\"location\")))\n",
    "    return callback\n",
    "\n",
    "# Функция реакции на двойной клик по маркеру\n",
    "def on_marker_double_click(marker: ipyleaflet.leaflet.Marker) -> None:\n",
    "    def callback(*args, **kwargs) -> Callable:\n",
    "        # Удаление маркера из кластера\n",
    "        remove_marker_from_cluster(marker)\n",
    "    return callback\n",
    "\n",
    "\n",
    "# Функция реакции нажатия на карту -> добавление маркера в точке клика\n",
    "def on_map_click(**kwargs):\n",
    "    if kwargs.get('type') == 'click':\n",
    "        # Создаём маркер в точке клика\n",
    "        default_marker = ipyleaflet.Marker(location=kwargs.get('coordinates'))\n",
    "        # Добавляем поп-ап с информацией о координатах\n",
    "        set_popup_text(default_marker, str(kwargs.get('coordinates')))\n",
    "        # Устанавливаем функцию-прослушку на перемещение маркера\n",
    "        default_marker.on_move(on_marker_move(default_marker))\n",
    "        # Устанавливаем функцию-прослушку на перемещение маркера\n",
    "        default_marker.on_dblclick(on_marker_double_click(default_marker))\n",
    "        # Добавляем маркер в соответствующий кластер\n",
    "        add_marker_to_cluster(default_marker)\n",
    "\n",
    "\n",
    "# Устанавливаем функцию-прослушку для карты на добавление маркера в точке клика\n",
    "main_map.on_interaction(on_map_click)"
   ]
  },
  {
   "cell_type": "markdown",
   "id": "64f5bd71",
   "metadata": {},
   "source": [
    "<h3>Создаём и добавляем кнопки управления и поле вывода</h3>"
   ]
  },
  {
   "cell_type": "code",
   "execution_count": 8,
   "id": "4dae64a4",
   "metadata": {},
   "outputs": [],
   "source": [
    "# Создаём кнопки для построения и удаления маршрута\n",
    "remove_route_button = ipywidgets.widgets.Button(description='Remove Route!',\n",
    "                                                disabled=False,\n",
    "                                                button_style='danger')\n",
    "button_remove_wc = ipyleaflet.WidgetControl(widget=remove_route_button, position='bottomright')\n",
    "build_route_button = ipywidgets.widgets.Button(description='Build Route!',\n",
    "                                               disabled=False,\n",
    "                                               button_style='success')\n",
    "button_build_wc = ipyleaflet.WidgetControl(widget=build_route_button, position='bottomright')\n",
    "\n",
    "# Создаём текстовое поле для вывода длины растояния\n",
    "route_distance_field = ipywidgets.widgets.Text(placeholder='Route Distance', disabled=True)\n",
    "field_wc = ipyleaflet.WidgetControl(widget=route_distance_field, position='bottomleft')\n",
    "\n",
    "main_map.add_control(button_remove_wc)\n",
    "main_map.add_control(button_build_wc)\n",
    "main_map.add_control(field_wc)"
   ]
  },
  {
   "cell_type": "markdown",
   "id": "88c27b73",
   "metadata": {},
   "source": [
    "<h3>Слой заданного маршрута: генерация запроса, вызов функции БД, вывод на карте</h3>"
   ]
  },
  {
   "cell_type": "code",
   "execution_count": 9,
   "id": "137f9f97",
   "metadata": {
    "scrolled": false
   },
   "outputs": [],
   "source": [
    "# Создаём переменную под шар для ломанной маршрута\n",
    "geo_route = None\n",
    "\n",
    "\n",
    "# Функция генерации парметра функции, который содержит координаты всех маркеров\n",
    "def get_generated_query() -> str:\n",
    "    query = 'LINESTRING('\n",
    "    for marker in user_markers_cluster.markers:\n",
    "        for coordinate in marker.location[::-1]:\n",
    "            query += f'{coordinate} '\n",
    "        query += ','\n",
    "    query = query.rstrip(' ,')\n",
    "    query += ')'\n",
    "    return query\n",
    "\n",
    "# Обращение к функции БД по постройке маршрута\n",
    "def get_route_form_db() -> Optional[geopandas.GeoDataFrame]:\n",
    "    load_dotenv()\n",
    "    with closing(psycopg2.connect(dbname='poznan_gis', \n",
    "                                  user=os.environ.get('DB_USER'), \n",
    "                                  password=os.environ.get('DB_PASSWORD'))) as conn:\n",
    "        try:\n",
    "            sql_query = f\"SELECT * FROM build_route_geometry('{get_generated_query()}');\"\n",
    "            route_df = geopandas.GeoDataFrame.from_postgis(sql=sql_query, con=conn, geom_col='build_route_geometry')\n",
    "            return route_df\n",
    "        except Exception as e:\n",
    "            print(e)\n",
    "        \n",
    "# Отображение построенного маршрута на карту\n",
    "def set_route() -> None:\n",
    "    route_df = get_route_form_db()\n",
    "    if route_df is not None:\n",
    "        global geo_route\n",
    "        if geo_route is None:\n",
    "            geo_route = ipyleaflet.GeoData(geo_dataframe=route_df, \n",
    "                                           style={'color': 'green'},\n",
    "                                           hover_style={'сolor': 'red' , 'fillOpacity': 0.2},\n",
    "                                           name='Routes')\n",
    "            main_map.add_layer(geo_route)\n",
    "        else:\n",
    "            geo_route.data.clear()\n",
    "            geo_route.geo_dataframe = route_df\n",
    "        route_distance_field.value = f\"{Geod(ellps='WGS84').geometry_length(route_df.iloc[0, 0]):.2f} meters\"\n",
    "    \n",
    "\n",
    "# Функция реакции на клик по кнопке 'Build Route!'\n",
    "def on_build_route_button_clicked(b) -> None:\n",
    "    if user_markers_cluster.markers:\n",
    "        set_route()\n",
    "\n",
    "        \n",
    "# Функция реакции на клик по кнопке 'Remove Route!'\n",
    "def on_remove_route_button_clicked(b) -> None:\n",
    "    global geo_route\n",
    "    if geo_route is not None:\n",
    "        main_map.remove_layer(geo_route)\n",
    "        geo_route = None\n",
    "        route_distance_field.value = ''\n",
    "\n",
    "build_route_button.on_click(on_build_route_button_clicked)\n",
    "remove_route_button.on_click(on_remove_route_button_clicked)"
   ]
  },
  {
   "cell_type": "code",
   "execution_count": 10,
   "id": "85b1520c",
   "metadata": {
    "scrolled": false
   },
   "outputs": [
    {
     "data": {
      "application/vnd.jupyter.widget-view+json": {
       "model_id": "194776889ea74500b174b1212b4d64f3",
       "version_major": 2,
       "version_minor": 0
      },
      "text/plain": [
       "Map(center=[52.4126, 16.9219], controls=(ZoomControl(options=['position', 'zoom_in_text', 'zoom_in_title', 'zo…"
      ]
     },
     "execution_count": 10,
     "metadata": {},
     "output_type": "execute_result"
    }
   ],
   "source": [
    "main_map"
   ]
  }
 ],
 "metadata": {
  "kernelspec": {
   "display_name": "Python 3 (ipykernel)",
   "language": "python",
   "name": "python3"
  },
  "language_info": {
   "codemirror_mode": {
    "name": "ipython",
    "version": 3
   },
   "file_extension": ".py",
   "mimetype": "text/x-python",
   "name": "python",
   "nbconvert_exporter": "python",
   "pygments_lexer": "ipython3",
   "version": "3.10.6"
  },
  "vscode": {
   "interpreter": {
    "hash": "97b7ffd8fee54b688e8df01ee2b0f89baecd1e25ecf519a6d0f920a06287118c"
   }
  }
 },
 "nbformat": 4,
 "nbformat_minor": 5
}
